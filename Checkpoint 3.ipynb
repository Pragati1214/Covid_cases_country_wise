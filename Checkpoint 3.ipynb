{
 "cells": [
  {
   "cell_type": "code",
   "execution_count": 6,
   "metadata": {},
   "outputs": [
    {
     "name": "stdout",
     "output_type": "stream",
     "text": [
      "1st country name india\n",
      "2nd country name russia\n",
      "3rd country name turkey\n",
      "4th country name brazil\n",
      "['india', 'russia', 'turkey', 'brazil']\n",
      "  country_name  active_cases  death_cases  recovered_cases\n",
      "a        India        826740       381903         28491670\n",
      "b        India        826740       381903         28491670\n",
      "c        India        826740       381903         28491670\n",
      "d        India        826740       381903         28491670\n",
      "  country_name  active_cases  death_cases  recovered_cases\n",
      "a       Russia        293602       125853          4783662\n",
      "b       Russia        293602       125853          4783662\n",
      "c       Russia        293602       125853          4783662\n",
      "d       Russia        293602       125853          4783662\n",
      "  country_name  active_cases  death_cases  recovered_cases\n",
      "a       Turkey         85344        49012          5219797\n",
      "b       Turkey         85344        49012          5219797\n",
      "c       Turkey         85344        49012          5219797\n",
      "d       Turkey         85344        49012          5219797\n",
      "  country_name  active_cases  death_cases  recovered_cases\n",
      "a       Brazil       1505157       493693         15629738\n",
      "b       Brazil       1505157       493693         15629738\n",
      "c       Brazil       1505157       493693         15629738\n",
      "d       Brazil       1505157       493693         15629738\n"
     ]
    }
   ],
   "source": [
    "import covid\n",
    "import numpy as np\n",
    "import matplotlib.pyplot as plt\n",
    "import pandas as pd\n",
    "import seaborn as sns\n",
    "import bar_chart_race as bcr\n",
    "\n",
    "\n",
    "cov = covid.Covid()\n",
    "\n",
    "coname1 = input('1st country name ')\n",
    "coname2 = input('2nd country name ')\n",
    "coname3 = input('3rd country name ')\n",
    "coname4 = input('4th country name ')\n",
    "\n",
    "\n",
    "listt = [coname1 , coname2 , coname3 , coname4]\n",
    "print(listt)\n",
    "\n",
    "for i in listt :\n",
    "    virusdata = cov.get_status_by_country_name(i)\n",
    "        \n",
    "    for k in virusdata:\n",
    "        \n",
    "        country = virusdata['country']\n",
    "        act = virusdata['active']\n",
    "        deaths = virusdata['deaths']\n",
    "        rec = virusdata['recovered']\n",
    "       \n",
    "    d={'country_name':country , 'active_cases':act , 'death_cases':deaths , 'recovered_cases':rec}\n",
    "    df=pd.DataFrame(d,index=['a','b','c','d'])\n",
    "    print(df)"
   ]
  },
  {
   "cell_type": "code",
   "execution_count": 2,
   "metadata": {},
   "outputs": [
    {
     "data": {
      "text/plain": [
       "tuple"
      ]
     },
     "execution_count": 2,
     "metadata": {},
     "output_type": "execute_result"
    }
   ],
   "source": [
    "\n",
    "    d={'country_name':country , 'active_cases':act , 'death_cases':deaths , 'recovered_cases':rec}\n",
    "    print(pd.DataFrame(d, columns = ['country_name','active_cases','death_cases','recovered_cases']\n",
    "                     ,index=['a', 'b', 'c', 'd']))"
   ]
  },
  {
   "cell_type": "code",
   "execution_count": 27,
   "metadata": {},
   "outputs": [
    {
     "name": "stdout",
     "output_type": "stream",
     "text": [
      "1st country name india\n",
      "2nd country name russia\n",
      "3rd country name turkey\n",
      "4th country name brazil\n",
      "['india', 'russia', 'turkey', 'brazil']\n"
     ]
    },
    {
     "data": {
      "text/plain": [
       "<AxesSubplot:>"
      ]
     },
     "execution_count": 27,
     "metadata": {},
     "output_type": "execute_result"
    },
    {
     "data": {
      "image/png": "[encoded data removed]",
      "text/plain": [
       "<Figure size 432x288 with 1 Axes>"
      ]
     },
     "metadata": {
      "needs_background": "light"
     },
     "output_type": "display_data"
    }
   ],
   "source": [
    "import covid\n",
    "import pandas as pd\n",
    "\n",
    "cov = covid.Covid()\n",
    "\n",
    "coname1 = input('1st country name ')\n",
    "virusdata1 = cov.get_status_by_country_name(coname1)\n",
    "dict1 = { 'country ': virusdata1['country'] , 'active_cases':virusdata1['active'],'recovered_cases':\n",
    "        virusdata1['recovered'],'deaths':virusdata1['deaths']}\n",
    "\n",
    "\n",
    "coname2 = input('2nd country name ')\n",
    "virusdata2 = cov.get_status_by_country_name(coname2)\n",
    "dict2 = { 'country ': virusdata2['country'] , 'active_cases':virusdata2['active'],'recovered_cases':\n",
    "        virusdata2['recovered'],'deaths':virusdata2['deaths']}\n",
    "\n",
    "\n",
    "coname3 = input('3rd country name ')\n",
    "virusdata3 = cov.get_status_by_country_name(coname3)\n",
    "dict3 = { 'country ': virusdata3['country'] , 'active_cases':virusdata3['active'],'recovered_cases':\n",
    "        virusdata3['recovered'],'deaths':virusdata3['deaths']}\n",
    "\n",
    "\n",
    "coname4 = input('4th country name ')\n",
    "virusdata4 = cov.get_status_by_country_name(coname4)\n",
    "dict4 = { 'country ': virusdata4['country'] , 'active_cases':virusdata4['active'],'recovered_cases':\n",
    "        virusdata4['recovered'],'deaths':virusdata4['deaths']}\n",
    "\n",
    "\n",
    "listt = [coname1 , coname2 , coname3 , coname4]\n",
    "print(listt)\n",
    "\n",
    "mydicts = [dict1, dict2 , dict3 , dict4]\n",
    "\n",
    "new = pd.DataFrame(mydicts,index = listt)\n",
    "  \n",
    "new\n",
    "\n",
    "new.plot(kind = 'bar')"
   ]
  },
  {
   "cell_type": "code",
   "execution_count": 13,
   "metadata": {},
   "outputs": [
    {
     "data": {
      "text/plain": [
       "<AxesSubplot:>"
      ]
     },
     "execution_count": 13,
     "metadata": {},
     "output_type": "execute_result"
    },
    {
     "data": {
      "image/png": "[encoded data removed]",
      "text/plain": [
       "<Figure size 432x288 with 1 Axes>"
      ]
     },
     "metadata": {
      "needs_background": "light"
     },
     "output_type": "display_data"
    }
   ],
   "source": [
    "new.plot.bar(rot=0)"
   ]
  },
  {
   "cell_type": "code",
   "execution_count": null,
   "metadata": {},
   "outputs": [],
   "source": []
  },
  {
   "cell_type": "code",
   "execution_count": null,
   "metadata": {},
   "outputs": [],
   "source": []
  },
  {
   "cell_type": "code",
   "execution_count": null,
   "metadata": {},
   "outputs": [],
   "source": []
  }
 ],
 "metadata": {
  "kernelspec": {
   "display_name": "Python 3",
   "language": "python",
   "name": "python3"
  },
  "language_info": {
   "codemirror_mode": {
    "name": "ipython",
    "version": 3
   },
   "file_extension": ".py",
   "mimetype": "text/x-python",
   "name": "python",
   "nbconvert_exporter": "python",
   "pygments_lexer": "ipython3",
   "version": "3.8.5"
  }
 },
 "nbformat": 4,
 "nbformat_minor": 4
}
